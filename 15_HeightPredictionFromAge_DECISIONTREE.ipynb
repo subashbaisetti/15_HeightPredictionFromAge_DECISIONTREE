{
  "nbformat": 4,
  "nbformat_minor": 0,
  "metadata": {
    "colab": {
      "name": "15_HeightPredictionFromAge_DECISIONTREE.ipynb",
      "provenance": []
    },
    "kernelspec": {
      "name": "python3",
      "display_name": "Python 3"
    },
    "language_info": {
      "name": "python"
    }
  },
  "cells": [
    {
      "cell_type": "markdown",
      "metadata": {
        "id": "wslyMl4Ifu87"
      },
      "source": [
        "# **Day-15 | Height Prediction using DECISION TREE**"
      ]
    },
    {
      "cell_type": "markdown",
      "metadata": {
        "id": "9upAdYqegB_x"
      },
      "source": [
        "### *Import Dataset*"
      ]
    },
    {
      "cell_type": "code",
      "metadata": {
        "id": "GjMl9L6ZftID"
      },
      "source": [
        "import pandas as pd\n",
        "import numpy as np\n",
        "import matplotlib.pyplot as plt"
      ],
      "execution_count": null,
      "outputs": []
    },
    {
      "cell_type": "markdown",
      "metadata": {
        "id": "WoCwFZcCggmo"
      },
      "source": [
        "### *Load Dataset from Local directory*"
      ]
    },
    {
      "cell_type": "code",
      "metadata": {
        "id": "SZUScnR6giB_"
      },
      "source": [
        "from google.colab import files\n",
        "uploaded = files.upload()"
      ],
      "execution_count": null,
      "outputs": []
    },
    {
      "cell_type": "markdown",
      "metadata": {
        "id": "Lkv0ec26goUn"
      },
      "source": [
        "### *Load Dataset*"
      ]
    },
    {
      "cell_type": "code",
      "metadata": {
        "id": "VXznHA3Ygp1D"
      },
      "source": [
        "dataset = pd.read_csv('dataset.csv')"
      ],
      "execution_count": null,
      "outputs": []
    },
    {
      "cell_type": "markdown",
      "metadata": {
        "id": "SP3BCTeBgtEs"
      },
      "source": [
        "### *Summarize Dataset*"
      ]
    },
    {
      "cell_type": "code",
      "metadata": {
        "id": "KK_OCewugxN5"
      },
      "source": [
        "print(dataset.shape)\n",
        "print(dataset.head(5))"
      ],
      "execution_count": null,
      "outputs": []
    },
    {
      "cell_type": "markdown",
      "metadata": {
        "id": "a33Ajb9sgzLn"
      },
      "source": [
        "### *Segregate Dataset into Input X & Output Y*"
      ]
    },
    {
      "cell_type": "code",
      "metadata": {
        "id": "9ukPm659g2YW"
      },
      "source": [
        "X = dataset.iloc[:, :-1].values\n",
        "X"
      ],
      "execution_count": null,
      "outputs": []
    },
    {
      "cell_type": "code",
      "metadata": {
        "id": "tFWv_jSqg7Lk"
      },
      "source": [
        "Y = dataset.iloc[:, -1].values\n",
        "Y"
      ],
      "execution_count": null,
      "outputs": []
    },
    {
      "cell_type": "markdown",
      "metadata": {
        "id": "IYyfP8iig_QQ"
      },
      "source": [
        "### *Splitting Dataset for Testing our Model*"
      ]
    },
    {
      "cell_type": "code",
      "metadata": {
        "id": "_qg_VgJYhBGH"
      },
      "source": [
        "from sklearn.model_selection import train_test_split\n",
        "x_train,x_test,y_train,y_test = train_test_split(X,Y,test_size=0.20,random_state=0)"
      ],
      "execution_count": null,
      "outputs": []
    },
    {
      "cell_type": "markdown",
      "metadata": {
        "id": "hnz1qqorhFfx"
      },
      "source": [
        "### *Training Dataset using Decision Tree*"
      ]
    },
    {
      "cell_type": "code",
      "metadata": {
        "id": "WJKykKNZhOga"
      },
      "source": [
        "from sklearn.tree import DecisionTreeRegressor  \n",
        "model = DecisionTreeRegressor()  \n",
        "model.fit(x_train, y_train)"
      ],
      "execution_count": null,
      "outputs": []
    },
    {
      "cell_type": "markdown",
      "metadata": {
        "id": "25U2-mrmh2ws"
      },
      "source": [
        "### *Visualizing Graph*"
      ]
    },
    {
      "cell_type": "code",
      "metadata": {
        "id": "0fOGjHKJh15e"
      },
      "source": [
        "X_val = np.arange(min(x_train), max(x_train), 0.01) \n",
        "X_val = X_val.reshape((len(X_val), 1))\n",
        "plt.scatter(x_train, y_train, color = 'green') \n",
        "plt.plot(X_val, model.predict(X_val), color = 'red')  \n",
        "plt.title('Height prediction using DecisionTree') \n",
        "plt.xlabel('Age') \n",
        "plt.ylabel('Height') \n",
        "plt.figure()\n",
        "plt.show()"
      ],
      "execution_count": null,
      "outputs": []
    },
    {
      "cell_type": "markdown",
      "metadata": {
        "id": "Trcf1Wm5hY0-"
      },
      "source": [
        "### *Prediction for all test data for validation*"
      ]
    },
    {
      "cell_type": "code",
      "metadata": {
        "id": "JxZ0riErhajr"
      },
      "source": [
        "ypred = model.predict(x_test)\n",
        "\n",
        "from sklearn.metrics import r2_score,mean_squared_error\n",
        "mse = mean_squared_error(y_test,ypred)\n",
        "rmse=np.sqrt(mse)\n",
        "print(\"Root Mean Square Error:\",rmse)\n",
        "r2score = r2_score(y_test,ypred)\n",
        "print(\"R2Score\",r2score*100)"
      ],
      "execution_count": null,
      "outputs": []
    }
  ]
}